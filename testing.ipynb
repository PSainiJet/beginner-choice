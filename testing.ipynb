{
 "metadata": {
  "language_info": {
   "codemirror_mode": {
    "name": "ipython",
    "version": 3
   },
   "file_extension": ".py",
   "mimetype": "text/x-python",
   "name": "python",
   "nbconvert_exporter": "python",
   "pygments_lexer": "ipython3",
   "version": "3.7.9-final"
  },
  "orig_nbformat": 2,
  "kernelspec": {
   "name": "Python 3.7.9 64-bit ('myenv': conda)",
   "display_name": "Python 3.7.9 64-bit ('myenv': conda)",
   "metadata": {
    "interpreter": {
     "hash": "9754003352d1ac0471b7b8bad82f30c76fe1bf082b51bb13c444e11bfbfa6b1b"
    }
   }
  }
 },
 "nbformat": 4,
 "nbformat_minor": 2,
 "cells": [
  {
   "cell_type": "code",
   "execution_count": 24,
   "metadata": {},
   "outputs": [],
   "source": [
    "import pandas as pd\n",
    "import numpy as np\n",
    "data = pd.read_csv('airports.dat.txt', index_col=0,names = ['S.no', 'Airport', 'country', 'user_id', 'source', 'topic','country1', 'user_id1', 'source1', 'topic1','country2', 'user_id3', 'source3', 'topic3'])"
   ]
  },
  {
   "cell_type": "code",
   "execution_count": 27,
   "metadata": {},
   "outputs": [
    {
     "output_type": "execute_result",
     "data": {
      "text/plain": [
       "                                          Airport       country  \\\n",
       "S.no                                                              \n",
       "1                                  Goroka Airport        Goroka   \n",
       "2                                  Madang Airport        Madang   \n",
       "3                    Mount Hagen Kagamuga Airport   Mount Hagen   \n",
       "4                                  Nadzab Airport        Nadzab   \n",
       "5     Port Moresby Jacksons International Airport  Port Moresby   \n",
       "6                     Wewak International Airport         Wewak   \n",
       "7                              Narsarsuaq Airport  Narssarssuaq   \n",
       "8                         Godthaab / Nuuk Airport      Godthaab   \n",
       "9                           Kangerlussuaq Airport   Sondrestrom   \n",
       "10                                 Thule Air Base         Thule   \n",
       "\n",
       "               user_id source topic   country1    user_id1  source1 topic1  \\\n",
       "S.no                                                                         \n",
       "1     Papua New Guinea    GKA  AYGA  -6.081690  145.391998     5282     10   \n",
       "2     Papua New Guinea    MAG  AYMD  -5.207080  145.789001       20     10   \n",
       "3     Papua New Guinea    HGU  AYMH  -5.826790  144.296005     5388     10   \n",
       "4     Papua New Guinea    LAE  AYNZ  -6.569803  146.725977      239     10   \n",
       "5     Papua New Guinea    POM  AYPY  -9.443380  147.220001      146     10   \n",
       "6     Papua New Guinea    WWK  AYWK  -3.583830  143.669006       19     10   \n",
       "7            Greenland    UAK  BGBW  61.160500  -45.425999      112     -3   \n",
       "8            Greenland    GOH  BGGH  64.190903  -51.678101      283     -3   \n",
       "9            Greenland    SFJ  BGSF  67.012222  -50.711603      165     -3   \n",
       "10           Greenland    THU  BGTL  76.531197  -68.703201      251     -4   \n",
       "\n",
       "     country2              user_id3  source3       topic3  \n",
       "S.no                                                       \n",
       "1           U  Pacific/Port_Moresby  airport  OurAirports  \n",
       "2           U  Pacific/Port_Moresby  airport  OurAirports  \n",
       "3           U  Pacific/Port_Moresby  airport  OurAirports  \n",
       "4           U  Pacific/Port_Moresby  airport  OurAirports  \n",
       "5           U  Pacific/Port_Moresby  airport  OurAirports  \n",
       "6           U  Pacific/Port_Moresby  airport  OurAirports  \n",
       "7           E       America/Godthab  airport  OurAirports  \n",
       "8           E       America/Godthab  airport  OurAirports  \n",
       "9           E       America/Godthab  airport  OurAirports  \n",
       "10          E         America/Thule  airport  OurAirports  "
      ],
      "text/html": "<div>\n<style scoped>\n    .dataframe tbody tr th:only-of-type {\n        vertical-align: middle;\n    }\n\n    .dataframe tbody tr th {\n        vertical-align: top;\n    }\n\n    .dataframe thead th {\n        text-align: right;\n    }\n</style>\n<table border=\"1\" class=\"dataframe\">\n  <thead>\n    <tr style=\"text-align: right;\">\n      <th></th>\n      <th>Airport</th>\n      <th>country</th>\n      <th>user_id</th>\n      <th>source</th>\n      <th>topic</th>\n      <th>country1</th>\n      <th>user_id1</th>\n      <th>source1</th>\n      <th>topic1</th>\n      <th>country2</th>\n      <th>user_id3</th>\n      <th>source3</th>\n      <th>topic3</th>\n    </tr>\n    <tr>\n      <th>S.no</th>\n      <th></th>\n      <th></th>\n      <th></th>\n      <th></th>\n      <th></th>\n      <th></th>\n      <th></th>\n      <th></th>\n      <th></th>\n      <th></th>\n      <th></th>\n      <th></th>\n      <th></th>\n    </tr>\n  </thead>\n  <tbody>\n    <tr>\n      <th>1</th>\n      <td>Goroka Airport</td>\n      <td>Goroka</td>\n      <td>Papua New Guinea</td>\n      <td>GKA</td>\n      <td>AYGA</td>\n      <td>-6.081690</td>\n      <td>145.391998</td>\n      <td>5282</td>\n      <td>10</td>\n      <td>U</td>\n      <td>Pacific/Port_Moresby</td>\n      <td>airport</td>\n      <td>OurAirports</td>\n    </tr>\n    <tr>\n      <th>2</th>\n      <td>Madang Airport</td>\n      <td>Madang</td>\n      <td>Papua New Guinea</td>\n      <td>MAG</td>\n      <td>AYMD</td>\n      <td>-5.207080</td>\n      <td>145.789001</td>\n      <td>20</td>\n      <td>10</td>\n      <td>U</td>\n      <td>Pacific/Port_Moresby</td>\n      <td>airport</td>\n      <td>OurAirports</td>\n    </tr>\n    <tr>\n      <th>3</th>\n      <td>Mount Hagen Kagamuga Airport</td>\n      <td>Mount Hagen</td>\n      <td>Papua New Guinea</td>\n      <td>HGU</td>\n      <td>AYMH</td>\n      <td>-5.826790</td>\n      <td>144.296005</td>\n      <td>5388</td>\n      <td>10</td>\n      <td>U</td>\n      <td>Pacific/Port_Moresby</td>\n      <td>airport</td>\n      <td>OurAirports</td>\n    </tr>\n    <tr>\n      <th>4</th>\n      <td>Nadzab Airport</td>\n      <td>Nadzab</td>\n      <td>Papua New Guinea</td>\n      <td>LAE</td>\n      <td>AYNZ</td>\n      <td>-6.569803</td>\n      <td>146.725977</td>\n      <td>239</td>\n      <td>10</td>\n      <td>U</td>\n      <td>Pacific/Port_Moresby</td>\n      <td>airport</td>\n      <td>OurAirports</td>\n    </tr>\n    <tr>\n      <th>5</th>\n      <td>Port Moresby Jacksons International Airport</td>\n      <td>Port Moresby</td>\n      <td>Papua New Guinea</td>\n      <td>POM</td>\n      <td>AYPY</td>\n      <td>-9.443380</td>\n      <td>147.220001</td>\n      <td>146</td>\n      <td>10</td>\n      <td>U</td>\n      <td>Pacific/Port_Moresby</td>\n      <td>airport</td>\n      <td>OurAirports</td>\n    </tr>\n    <tr>\n      <th>6</th>\n      <td>Wewak International Airport</td>\n      <td>Wewak</td>\n      <td>Papua New Guinea</td>\n      <td>WWK</td>\n      <td>AYWK</td>\n      <td>-3.583830</td>\n      <td>143.669006</td>\n      <td>19</td>\n      <td>10</td>\n      <td>U</td>\n      <td>Pacific/Port_Moresby</td>\n      <td>airport</td>\n      <td>OurAirports</td>\n    </tr>\n    <tr>\n      <th>7</th>\n      <td>Narsarsuaq Airport</td>\n      <td>Narssarssuaq</td>\n      <td>Greenland</td>\n      <td>UAK</td>\n      <td>BGBW</td>\n      <td>61.160500</td>\n      <td>-45.425999</td>\n      <td>112</td>\n      <td>-3</td>\n      <td>E</td>\n      <td>America/Godthab</td>\n      <td>airport</td>\n      <td>OurAirports</td>\n    </tr>\n    <tr>\n      <th>8</th>\n      <td>Godthaab / Nuuk Airport</td>\n      <td>Godthaab</td>\n      <td>Greenland</td>\n      <td>GOH</td>\n      <td>BGGH</td>\n      <td>64.190903</td>\n      <td>-51.678101</td>\n      <td>283</td>\n      <td>-3</td>\n      <td>E</td>\n      <td>America/Godthab</td>\n      <td>airport</td>\n      <td>OurAirports</td>\n    </tr>\n    <tr>\n      <th>9</th>\n      <td>Kangerlussuaq Airport</td>\n      <td>Sondrestrom</td>\n      <td>Greenland</td>\n      <td>SFJ</td>\n      <td>BGSF</td>\n      <td>67.012222</td>\n      <td>-50.711603</td>\n      <td>165</td>\n      <td>-3</td>\n      <td>E</td>\n      <td>America/Godthab</td>\n      <td>airport</td>\n      <td>OurAirports</td>\n    </tr>\n    <tr>\n      <th>10</th>\n      <td>Thule Air Base</td>\n      <td>Thule</td>\n      <td>Greenland</td>\n      <td>THU</td>\n      <td>BGTL</td>\n      <td>76.531197</td>\n      <td>-68.703201</td>\n      <td>251</td>\n      <td>-4</td>\n      <td>E</td>\n      <td>America/Thule</td>\n      <td>airport</td>\n      <td>OurAirports</td>\n    </tr>\n  </tbody>\n</table>\n</div>"
     },
     "metadata": {},
     "execution_count": 27
    }
   ],
   "source": [
    "data.head(10)"
   ]
  },
  {
   "cell_type": "code",
   "execution_count": null,
   "metadata": {},
   "outputs": [],
   "source": [
    "import seaborn as sns\n",
    "import matplotlib.pyplot as plt\n",
    "\n",
    "fig, axs = plt.subplots(ncols=5, figsize=(30,5))\n",
    "sns.violinplot(x=\"survived\", y=\"age\", hue=\"sex\", data=data, ax=axs[0])"
   ]
  }
 ]
}